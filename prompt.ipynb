{
 "cells": [
  {
   "cell_type": "markdown",
   "metadata": {
    "id": "CcUT6Fon_qRE"
   },
   "source": [
    "### Required Assignment 5.1: Will the Customer Accept the Coupon?\n",
    "\n",
    "**Context**\n",
    "\n",
    "Imagine driving through town and a coupon is delivered to your cell phone for a restaurant near where you are driving. Would you accept that coupon and take a short detour to the restaurant? Would you accept the coupon but use it on a subsequent trip? Would you ignore the coupon entirely? What if the coupon was for a bar instead of a restaurant? What about a coffee house? Would you accept a bar coupon with a minor passenger in the car? What about if it was just you and your partner in the car? Would weather impact the rate of acceptance? What about the time of day?\n",
    "\n",
    "Obviously, proximity to the business is a factor on whether the coupon is delivered to the driver or not, but what are the factors that determine whether a driver accepts the coupon once it is delivered to them? How would you determine whether a driver is likely to accept a coupon?\n",
    "\n",
    "**Overview**\n",
    "\n",
    "The goal of this project is to use what you know about visualizations and probability distributions to distinguish between customers who accepted a driving coupon versus those that did not.\n",
    "\n",
    "**Data**\n",
    "\n",
    "This data comes to us from the UCI Machine Learning repository and was collected via a survey on Amazon Mechanical Turk. The survey describes different driving scenarios including the destination, current time, weather, passenger, etc., and then ask the person whether he will accept the coupon if he is the driver. Answers that the user will drive there ‘right away’ or ‘later before the coupon expires’ are labeled as ‘Y = 1’ and answers ‘no, I do not want the coupon’ are labeled as ‘Y = 0’.  There are five different types of coupons -- less expensive restaurants (under \\$20), coffee houses, carry out & take away, bar, and more expensive restaurants (\\$20 - $50)."
   ]
  },
  {
   "cell_type": "markdown",
   "metadata": {
    "id": "1wORvMBJ_qRF"
   },
   "source": [
    "**Deliverables**\n",
    "\n",
    "Your final product should be a brief report that highlights the differences between customers who did and did not accept the coupons.  To explore the data you will utilize your knowledge of plotting, statistical summaries, and visualization using Python. You will publish your findings in a public facing github repository as your first portfolio piece.\n",
    "\n",
    "\n",
    "\n"
   ]
  },
  {
   "cell_type": "markdown",
   "metadata": {
    "id": "pG6_Ym6q_qRG"
   },
   "source": [
    "### Data Description\n",
    "Keep in mind that these values mentioned below are average values.\n",
    "\n",
    "The attributes of this data set include:\n",
    "1. User attributes\n",
    "    -  Gender: male, female\n",
    "    -  Age: below 21, 21 to 25, 26 to 30, etc.\n",
    "    -  Marital Status: single, married partner, unmarried partner, or widowed\n",
    "    -  Number of children: 0, 1, or more than 1\n",
    "    -  Education: high school, bachelors degree, associates degree, or graduate degree\n",
    "    -  Occupation: architecture & engineering, business & financial, etc.\n",
    "    -  Annual income: less than \\\\$12500, \\\\$12500 - \\\\$24999, \\\\$25000 - \\\\$37499, etc.\n",
    "    -  Number of times that he/she goes to a bar: 0, less than 1, 1 to 3, 4 to 8 or greater than 8\n",
    "    -  Number of times that he/she buys takeaway food: 0, less than 1, 1 to 3, 4 to 8 or greater\n",
    "    than 8\n",
    "    -  Number of times that he/she goes to a coffee house: 0, less than 1, 1 to 3, 4 to 8 or\n",
    "    greater than 8\n",
    "    -  Number of times that he/she eats at a restaurant with average expense less than \\\\$20 per\n",
    "    person: 0, less than 1, 1 to 3, 4 to 8 or greater than 8\n",
    "    -  Number of times that he/she goes to a bar: 0, less than 1, 1 to 3, 4 to 8 or greater than 8\n",
    "    \n",
    "\n",
    "2. Contextual attributes\n",
    "    - Driving destination: home, work, or no urgent destination\n",
    "    - Location of user, coupon and destination: we provide a map to show the geographical\n",
    "    location of the user, destination, and the venue, and we mark the distance between each\n",
    "    two places with time of driving. The user can see whether the venue is in the same\n",
    "    direction as the destination.\n",
    "    - Weather: sunny, rainy, or snowy\n",
    "    - Temperature: 30F, 55F, or 80F\n",
    "    - Time: 10AM, 2PM, or 6PM\n",
    "    - Passenger: alone, partner, kid(s), or friend(s)\n",
    "\n",
    "\n",
    "3. Coupon attributes\n",
    "    - time before it expires: 2 hours or one day"
   ]
  },
  {
   "cell_type": "code",
   "metadata": {
    "id": "dzNoP3o__qRG",
    "ExecuteTime": {
     "end_time": "2025-07-31T05:28:31.478878Z",
     "start_time": "2025-07-31T05:28:31.476365Z"
    }
   },
   "source": [
    "from contextlib import nullcontext\n",
    "\n",
    "import matplotlib.pyplot as plt\n",
    "import seaborn as sns\n",
    "import pandas as pd\n",
    "import numpy as np\n",
    "from pandas.core.nanops import nanmax"
   ],
   "outputs": [],
   "execution_count": 152
  },
  {
   "cell_type": "markdown",
   "metadata": {
    "id": "Ct8pI1uE_qRG"
   },
   "source": [
    "### Problems\n",
    "\n",
    "Use the prompts below to get started with your data analysis.  \n",
    "\n",
    "1. Read in the `coupons.csv` file.\n",
    "\n",
    "\n"
   ]
  },
  {
   "cell_type": "code",
   "metadata": {
    "id": "X0vbffYg_qRH",
    "ExecuteTime": {
     "end_time": "2025-07-31T05:28:31.510861Z",
     "start_time": "2025-07-31T05:28:31.482677Z"
    }
   },
   "source": [
    "data = pd.read_csv('data/coupons.csv')"
   ],
   "outputs": [],
   "execution_count": 153
  },
  {
   "cell_type": "code",
   "metadata": {
    "id": "TXofQ_DF_qRH",
    "outputId": "2fc96a2c-1112-4b54-f24f-dbb9bc88abfb",
    "ExecuteTime": {
     "end_time": "2025-07-31T05:28:31.515695Z",
     "start_time": "2025-07-31T05:28:31.514394Z"
    }
   },
   "source": "",
   "outputs": [],
   "execution_count": null
  },
  {
   "cell_type": "markdown",
   "metadata": {
    "id": "GcDs78ZH_qRH"
   },
   "source": [
    "2. Investigate the dataset for missing or problematic data."
   ]
  },
  {
   "cell_type": "code",
   "metadata": {
    "id": "6CwL6oWj_qRH",
    "ExecuteTime": {
     "end_time": "2025-07-31T05:28:31.537472Z",
     "start_time": "2025-07-31T05:28:31.519545Z"
    }
   },
   "source": [
    "#Checking non-null values\n",
    "data.info()\n",
    "\n",
    "#Checking unique values in the columns to understand if there is any value that should be updated\n",
    "all_columns = data.columns.tolist()\n",
    "for col in all_columns:\n",
    "    print(f\"Unique values in column '{col}':\", updated_data[col].unique())\n",
    "\n",
    "original_data_shape = data.shape\n"
   ],
   "outputs": [
    {
     "name": "stdout",
     "output_type": "stream",
     "text": [
      "<class 'pandas.core.frame.DataFrame'>\n",
      "RangeIndex: 12684 entries, 0 to 12683\n",
      "Data columns (total 26 columns):\n",
      " #   Column                Non-Null Count  Dtype \n",
      "---  ------                --------------  ----- \n",
      " 0   destination           12684 non-null  object\n",
      " 1   passanger             12684 non-null  object\n",
      " 2   weather               12684 non-null  object\n",
      " 3   temperature           12684 non-null  int64 \n",
      " 4   time                  12684 non-null  object\n",
      " 5   coupon                12684 non-null  object\n",
      " 6   expiration            12684 non-null  object\n",
      " 7   gender                12684 non-null  object\n",
      " 8   age                   12684 non-null  object\n",
      " 9   maritalStatus         12684 non-null  object\n",
      " 10  has_children          12684 non-null  int64 \n",
      " 11  education             12684 non-null  object\n",
      " 12  occupation            12684 non-null  object\n",
      " 13  income                12684 non-null  object\n",
      " 14  car                   108 non-null    object\n",
      " 15  Bar                   12577 non-null  object\n",
      " 16  CoffeeHouse           12467 non-null  object\n",
      " 17  CarryAway             12533 non-null  object\n",
      " 18  RestaurantLessThan20  12554 non-null  object\n",
      " 19  Restaurant20To50      12495 non-null  object\n",
      " 20  toCoupon_GEQ5min      12684 non-null  int64 \n",
      " 21  toCoupon_GEQ15min     12684 non-null  int64 \n",
      " 22  toCoupon_GEQ25min     12684 non-null  int64 \n",
      " 23  direction_same        12684 non-null  int64 \n",
      " 24  direction_opp         12684 non-null  int64 \n",
      " 25  Y                     12684 non-null  int64 \n",
      "dtypes: int64(8), object(18)\n",
      "memory usage: 2.5+ MB\n",
      "Unique values in column 'destination': ['No Urgent Place' 'Home' 'Work']\n",
      "Unique values in column 'passanger': ['Alone' 'Friend(s)' 'Kid(s)' 'Partner']\n",
      "Unique values in column 'weather': ['Sunny' 'Rainy' 'Snowy']\n",
      "Unique values in column 'temperature': [55 80 30]\n",
      "Unique values in column 'time': ['2PM' '10AM' '6PM' '7AM' '10PM']\n",
      "Unique values in column 'coupon': ['Restaurant(<20)' 'Coffee House' 'Bar' 'Carry out & Take away'\n",
      " 'Restaurant(20-50)']\n",
      "Unique values in column 'expiration': ['1d' '2h']\n",
      "Unique values in column 'gender': ['Male' 'Female']\n",
      "Unique values in column 'age': ['21' '46' '26' '31' '41' '50plus' '36' 'below21']\n",
      "Unique values in column 'maritalStatus': ['Single' 'Married partner' 'Unmarried partner' 'Divorced' 'Widowed']\n",
      "Unique values in column 'has_children': [0 1]\n",
      "Unique values in column 'education': ['Bachelors degree' 'Some college - no degree' 'Associates degree'\n",
      " 'High School Graduate' 'Graduate degree (Masters or Doctorate)'\n",
      " 'Some High School']\n",
      "Unique values in column 'occupation': ['Architecture & Engineering' 'Student' 'Education&Training&Library'\n",
      " 'Unemployed' 'Healthcare Support' 'Healthcare Practitioners & Technical'\n",
      " 'Sales & Related' 'Management' 'Arts Design Entertainment Sports & Media'\n",
      " 'Computer & Mathematical' 'Life Physical Social Science'\n",
      " 'Personal Care & Service' 'Office & Administrative Support'\n",
      " 'Construction & Extraction' 'Legal' 'Retired'\n",
      " 'Community & Social Services' 'Installation Maintenance & Repair'\n",
      " 'Transportation & Material Moving' 'Business & Financial'\n",
      " 'Protective Service' 'Food Preparation & Serving Related'\n",
      " 'Production Occupations' 'Building & Grounds Cleaning & Maintenance'\n",
      " 'Farming Fishing & Forestry']\n",
      "Unique values in column 'income': ['$62500 - $74999' '$12500 - $24999' '$75000 - $87499' '$50000 - $62499'\n",
      " '$37500 - $49999' '$25000 - $37499' '$100000 or More' '$87500 - $99999'\n",
      " 'Less than $12500']\n",
      "Unique values in column 'car': ['do not drive' 'Scooter and motorcycle' 'crossover' 'Mazda5'\n",
      " 'Car that is too old to install Onstar :D']\n",
      "Unique values in column 'Bar': ['never' 'less1' '1~3' 'gt8' '4~8']\n",
      "Unique values in column 'CoffeeHouse': ['less1' '4~8' '1~3' 'gt8' 'never']\n",
      "Unique values in column 'CarryAway': ['4~8' '1~3' 'gt8' 'less1' 'never']\n",
      "Unique values in column 'RestaurantLessThan20': ['4~8' '1~3' 'less1' 'gt8' 'never']\n",
      "Unique values in column 'Restaurant20To50': ['less1' 'never' '1~3' 'gt8' '4~8']\n",
      "Unique values in column 'toCoupon_GEQ5min': [1]\n",
      "Unique values in column 'toCoupon_GEQ15min': [0 1]\n",
      "Unique values in column 'toCoupon_GEQ25min': [0 1]\n",
      "Unique values in column 'direction_same': [0 1]\n",
      "Unique values in column 'direction_opp': [1 0]\n",
      "Unique values in column 'Y': [1 0]\n"
     ]
    }
   ],
   "execution_count": 154
  },
  {
   "cell_type": "markdown",
   "metadata": {
    "id": "bSdVSpYB_qRH"
   },
   "source": [
    "3. Decide what to do about your missing data -- drop, replace, other..."
   ]
  },
  {
   "cell_type": "code",
   "metadata": {
    "id": "tyvoAC5F_qRI",
    "ExecuteTime": {
     "end_time": "2025-07-31T05:30:15.198520Z",
     "start_time": "2025-07-31T05:30:15.173146Z"
    }
   },
   "source": [
    "#From above investigation, it is clear that 'car' column has many nulls. Updating its nan with 'do not drive' as it seems like a missing data.\n",
    "data.loc[data['car'].isnull(), 'car'] = 'do not drive'\n",
    "\n",
    "#Followed by that drop null-value rows as there wont be much impact on the size of the population.\n",
    "data= data.dropna()\n",
    "\n",
    "#Check unique values after updates\n",
    "for col in all_columns:\n",
    "    print(f\"Unique values in column '{col}':\", updated_data[col].unique())\n",
    "\n",
    "updated_data_shape = data.shape\n",
    "print(\"Original data shape\", original_data_shape)\n",
    "print(\"New data shape\", updated_data_shape)\n",
    "print('Percentage of data loss after drops and update: ', ((original_data_shape[0] - updated_data_shape[0]) * 100 / original_data_shape[0]))\n",
    "\n"
   ],
   "outputs": [
    {
     "name": "stdout",
     "output_type": "stream",
     "text": [
      "Unique values in column 'destination': ['No Urgent Place' 'Home' 'Work']\n",
      "Unique values in column 'passanger': ['Alone' 'Friend(s)' 'Kid(s)' 'Partner']\n",
      "Unique values in column 'weather': ['Sunny' 'Rainy' 'Snowy']\n",
      "Unique values in column 'temperature': [55 80 30]\n",
      "Unique values in column 'time': ['2PM' '10AM' '6PM' '7AM' '10PM']\n",
      "Unique values in column 'coupon': ['Restaurant(<20)' 'Coffee House' 'Bar' 'Carry out & Take away'\n",
      " 'Restaurant(20-50)']\n",
      "Unique values in column 'expiration': ['1d' '2h']\n",
      "Unique values in column 'gender': ['Male' 'Female']\n",
      "Unique values in column 'age': ['21' '46' '26' '31' '41' '50plus' '36' 'below21']\n",
      "Unique values in column 'maritalStatus': ['Single' 'Married partner' 'Unmarried partner' 'Divorced' 'Widowed']\n",
      "Unique values in column 'has_children': [0 1]\n",
      "Unique values in column 'education': ['Bachelors degree' 'Some college - no degree' 'Associates degree'\n",
      " 'High School Graduate' 'Graduate degree (Masters or Doctorate)'\n",
      " 'Some High School']\n",
      "Unique values in column 'occupation': ['Architecture & Engineering' 'Student' 'Education&Training&Library'\n",
      " 'Unemployed' 'Healthcare Support' 'Healthcare Practitioners & Technical'\n",
      " 'Sales & Related' 'Management' 'Arts Design Entertainment Sports & Media'\n",
      " 'Computer & Mathematical' 'Life Physical Social Science'\n",
      " 'Personal Care & Service' 'Office & Administrative Support'\n",
      " 'Construction & Extraction' 'Legal' 'Retired'\n",
      " 'Community & Social Services' 'Installation Maintenance & Repair'\n",
      " 'Transportation & Material Moving' 'Business & Financial'\n",
      " 'Protective Service' 'Food Preparation & Serving Related'\n",
      " 'Production Occupations' 'Building & Grounds Cleaning & Maintenance'\n",
      " 'Farming Fishing & Forestry']\n",
      "Unique values in column 'income': ['$62500 - $74999' '$12500 - $24999' '$75000 - $87499' '$50000 - $62499'\n",
      " '$37500 - $49999' '$25000 - $37499' '$100000 or More' '$87500 - $99999'\n",
      " 'Less than $12500']\n",
      "Unique values in column 'car': ['do not drive' 'Scooter and motorcycle' 'crossover' 'Mazda5'\n",
      " 'Car that is too old to install Onstar :D']\n",
      "Unique values in column 'Bar': ['never' 'less1' '1~3' 'gt8' '4~8']\n",
      "Unique values in column 'CoffeeHouse': ['less1' '4~8' '1~3' 'gt8' 'never']\n",
      "Unique values in column 'CarryAway': ['4~8' '1~3' 'gt8' 'less1' 'never']\n",
      "Unique values in column 'RestaurantLessThan20': ['4~8' '1~3' 'less1' 'gt8' 'never']\n",
      "Unique values in column 'Restaurant20To50': ['less1' 'never' '1~3' 'gt8' '4~8']\n",
      "Unique values in column 'toCoupon_GEQ5min': [1]\n",
      "Unique values in column 'toCoupon_GEQ15min': [0 1]\n",
      "Unique values in column 'toCoupon_GEQ25min': [0 1]\n",
      "Unique values in column 'direction_same': [0 1]\n",
      "Unique values in column 'direction_opp': [1 0]\n",
      "Unique values in column 'Y': [1 0]\n",
      "Original data shape (12684, 26)\n",
      "New data shape (12079, 26)\n",
      "Percentage of data loss after drops and update:  4.769788710186061\n"
     ]
    }
   ],
   "execution_count": 165
  },
  {
   "cell_type": "markdown",
   "metadata": {
    "id": "YE6oJbXd_qRI"
   },
   "source": [
    "4. What proportion of the total observations chose to accept the coupon?\n",
    "\n"
   ]
  },
  {
   "cell_type": "code",
   "metadata": {
    "id": "86GGqBTv_qRI",
    "ExecuteTime": {
     "end_time": "2025-07-31T05:43:40.044472Z",
     "start_time": "2025-07-31T05:43:40.039144Z"
    }
   },
   "source": [
    "#Using cleansed data for this calculation assuming it is representative of whole population. As 'Y' column is yes for accepted coupons using it for filtering rows with coupon accepted\n",
    "print( len(data[data['Y'] == 1]) / len(data))"
   ],
   "outputs": [
    {
     "name": "stdout",
     "output_type": "stream",
     "text": [
      "0.5693352098683666\n"
     ]
    }
   ],
   "execution_count": 176
  },
  {
   "cell_type": "markdown",
   "metadata": {
    "id": "vflz0DoE_qRI"
   },
   "source": [
    "5. Use a bar plot to visualize the `coupon` column."
   ]
  },
  {
   "cell_type": "code",
   "metadata": {
    "id": "dHFh3E45_qRI",
    "ExecuteTime": {
     "end_time": "2025-07-31T05:37:54.955765Z",
     "start_time": "2025-07-31T05:37:54.864395Z"
    }
   },
   "source": [
    "coupon_counts = data['coupon'].value_counts()\n",
    "print(coupon_counts)\n",
    "sns.barplot(coupon_counts)\n",
    "plt.title('Coupon Type bar plot')\n",
    "plt.ylabel('Count')\n",
    "plt.xlabel('Coupon Type')\n",
    "plt.xticks(rotation=45)\n",
    "plt.tight_layout()\n",
    "plt.show()\n"
   ],
   "outputs": [
    {
     "name": "stdout",
     "output_type": "stream",
     "text": [
      "coupon\n",
      "Coffee House             3816\n",
      "Restaurant(<20)          2653\n",
      "Carry out & Take away    2280\n",
      "Bar                      1913\n",
      "Restaurant(20-50)        1417\n",
      "Name: count, dtype: int64\n"
     ]
    },
    {
     "data": {
      "text/plain": [
       "<Figure size 640x480 with 1 Axes>"
      ],
      "image/png": "[encoded data removed]"
     },
     "metadata": {},
     "output_type": "display_data"
    }
   ],
   "execution_count": 172
  },
  {
   "cell_type": "markdown",
   "metadata": {
    "id": "Qw4lCyx2_qRI"
   },
   "source": [
    "6. Use a histogram to visualize the temperature column."
   ]
  },
  {
   "cell_type": "code",
   "metadata": {
    "id": "Yg9Anv71_qRI",
    "ExecuteTime": {
     "end_time": "2025-07-31T05:39:20.943107Z",
     "start_time": "2025-07-31T05:39:20.867392Z"
    }
   },
   "source": [
    "temperature_counts = data['temperature'].value_counts()\n",
    "sns.barplot(temperature_counts)\n",
    "plt.title('Temperature bar plot')\n",
    "plt.ylabel('Count')\n",
    "plt.xlabel('Temperature')\n",
    "plt.tight_layout()\n",
    "plt.show()\n"
   ],
   "outputs": [
    {
     "data": {
      "text/plain": [
       "<Figure size 640x480 with 1 Axes>"
      ],
      "image/png": "[encoded data removed]"
     },
     "metadata": {},
     "output_type": "display_data"
    }
   ],
   "execution_count": 173
  },
  {
   "cell_type": "code",
   "metadata": {
    "id": "zLtOaJQk_qRI",
    "ExecuteTime": {
     "end_time": "2025-07-31T05:39:35.198275Z",
     "start_time": "2025-07-31T05:39:35.196507Z"
    }
   },
   "source": [],
   "outputs": [],
   "execution_count": null
  },
  {
   "cell_type": "code",
   "metadata": {
    "id": "7GBHZKBp_qRJ",
    "ExecuteTime": {
     "end_time": "2025-07-31T05:28:31.728511Z",
     "start_time": "2025-07-31T05:28:31.727084Z"
    }
   },
   "source": [],
   "outputs": [],
   "execution_count": null
  },
  {
   "cell_type": "code",
   "metadata": {
    "id": "Y5nBUA-j_qRJ",
    "ExecuteTime": {
     "end_time": "2025-07-31T05:28:31.732996Z",
     "start_time": "2025-07-31T05:28:31.731565Z"
    }
   },
   "source": [],
   "outputs": [],
   "execution_count": null
  },
  {
   "cell_type": "code",
   "metadata": {
    "id": "ShcUC-Vm_qRJ",
    "ExecuteTime": {
     "end_time": "2025-07-31T05:28:31.737509Z",
     "start_time": "2025-07-31T05:28:31.736142Z"
    }
   },
   "source": [],
   "outputs": [],
   "execution_count": null
  },
  {
   "cell_type": "markdown",
   "metadata": {
    "id": "FupfgeJk_qRJ"
   },
   "source": [
    "**Investigating the Bar Coupons**\n",
    "\n",
    "Now, we will lead you through an exploration of just the bar related coupons.  \n",
    "\n",
    "1. Create a new `DataFrame` that contains just the bar coupons.\n"
   ]
  },
  {
   "cell_type": "code",
   "metadata": {
    "id": "tMBlWuGq_qRJ",
    "ExecuteTime": {
     "end_time": "2025-07-31T05:28:31.749428Z",
     "start_time": "2025-07-31T05:28:31.741430Z"
    }
   },
   "source": [
    "bar_coupons_data = data.loc[data['coupon'] == 'Bar']\n",
    "bar_coupons_data.head()"
   ],
   "outputs": [
    {
     "data": {
      "text/plain": [
       "        destination  passanger weather  temperature  time coupon expiration  \\\n",
       "24  No Urgent Place  Friend(s)   Sunny           80  10AM    Bar         1d   \n",
       "35             Home      Alone   Sunny           55   6PM    Bar         1d   \n",
       "39             Work      Alone   Sunny           55   7AM    Bar         1d   \n",
       "46  No Urgent Place  Friend(s)   Sunny           80  10AM    Bar         1d   \n",
       "57             Home      Alone   Sunny           55   6PM    Bar         1d   \n",
       "\n",
       "   gender age maritalStatus  ...  CoffeeHouse CarryAway RestaurantLessThan20  \\\n",
       "24   Male  21        Single  ...        less1       4~8                  4~8   \n",
       "35   Male  21        Single  ...        less1       4~8                  4~8   \n",
       "39   Male  21        Single  ...        less1       4~8                  4~8   \n",
       "46   Male  46        Single  ...          4~8       1~3                  1~3   \n",
       "57   Male  46        Single  ...          4~8       1~3                  1~3   \n",
       "\n",
       "   Restaurant20To50 toCoupon_GEQ5min toCoupon_GEQ15min toCoupon_GEQ25min  \\\n",
       "24            less1                1                 0                 0   \n",
       "35            less1                1                 0                 0   \n",
       "39            less1                1                 1                 1   \n",
       "46            never                1                 0                 0   \n",
       "57            never                1                 0                 0   \n",
       "\n",
       "   direction_same direction_opp  Y  \n",
       "24              0             1  1  \n",
       "35              1             0  1  \n",
       "39              0             1  1  \n",
       "46              0             1  0  \n",
       "57              1             0  0  \n",
       "\n",
       "[5 rows x 26 columns]"
      ],
      "text/html": [
       "<div>\n",
       "<style scoped>\n",
       "    .dataframe tbody tr th:only-of-type {\n",
       "        vertical-align: middle;\n",
       "    }\n",
       "\n",
       "    .dataframe tbody tr th {\n",
       "        vertical-align: top;\n",
       "    }\n",
       "\n",
       "    .dataframe thead th {\n",
       "        text-align: right;\n",
       "    }\n",
       "</style>\n",
       "<table border=\"1\" class=\"dataframe\">\n",
       "  <thead>\n",
       "    <tr style=\"text-align: right;\">\n",
       "      <th></th>\n",
       "      <th>destination</th>\n",
       "      <th>passanger</th>\n",
       "      <th>weather</th>\n",
       "      <th>temperature</th>\n",
       "      <th>time</th>\n",
       "      <th>coupon</th>\n",
       "      <th>expiration</th>\n",
       "      <th>gender</th>\n",
       "      <th>age</th>\n",
       "      <th>maritalStatus</th>\n",
       "      <th>...</th>\n",
       "      <th>CoffeeHouse</th>\n",
       "      <th>CarryAway</th>\n",
       "      <th>RestaurantLessThan20</th>\n",
       "      <th>Restaurant20To50</th>\n",
       "      <th>toCoupon_GEQ5min</th>\n",
       "      <th>toCoupon_GEQ15min</th>\n",
       "      <th>toCoupon_GEQ25min</th>\n",
       "      <th>direction_same</th>\n",
       "      <th>direction_opp</th>\n",
       "      <th>Y</th>\n",
       "    </tr>\n",
       "  </thead>\n",
       "  <tbody>\n",
       "    <tr>\n",
       "      <th>24</th>\n",
       "      <td>No Urgent Place</td>\n",
       "      <td>Friend(s)</td>\n",
       "      <td>Sunny</td>\n",
       "      <td>80</td>\n",
       "      <td>10AM</td>\n",
       "      <td>Bar</td>\n",
       "      <td>1d</td>\n",
       "      <td>Male</td>\n",
       "      <td>21</td>\n",
       "      <td>Single</td>\n",
       "      <td>...</td>\n",
       "      <td>less1</td>\n",
       "      <td>4~8</td>\n",
       "      <td>4~8</td>\n",
       "      <td>less1</td>\n",
       "      <td>1</td>\n",
       "      <td>0</td>\n",
       "      <td>0</td>\n",
       "      <td>0</td>\n",
       "      <td>1</td>\n",
       "      <td>1</td>\n",
       "    </tr>\n",
       "    <tr>\n",
       "      <th>35</th>\n",
       "      <td>Home</td>\n",
       "      <td>Alone</td>\n",
       "      <td>Sunny</td>\n",
       "      <td>55</td>\n",
       "      <td>6PM</td>\n",
       "      <td>Bar</td>\n",
       "      <td>1d</td>\n",
       "      <td>Male</td>\n",
       "      <td>21</td>\n",
       "      <td>Single</td>\n",
       "      <td>...</td>\n",
       "      <td>less1</td>\n",
       "      <td>4~8</td>\n",
       "      <td>4~8</td>\n",
       "      <td>less1</td>\n",
       "      <td>1</td>\n",
       "      <td>0</td>\n",
       "      <td>0</td>\n",
       "      <td>1</td>\n",
       "      <td>0</td>\n",
       "      <td>1</td>\n",
       "    </tr>\n",
       "    <tr>\n",
       "      <th>39</th>\n",
       "      <td>Work</td>\n",
       "      <td>Alone</td>\n",
       "      <td>Sunny</td>\n",
       "      <td>55</td>\n",
       "      <td>7AM</td>\n",
       "      <td>Bar</td>\n",
       "      <td>1d</td>\n",
       "      <td>Male</td>\n",
       "      <td>21</td>\n",
       "      <td>Single</td>\n",
       "      <td>...</td>\n",
       "      <td>less1</td>\n",
       "      <td>4~8</td>\n",
       "      <td>4~8</td>\n",
       "      <td>less1</td>\n",
       "      <td>1</td>\n",
       "      <td>1</td>\n",
       "      <td>1</td>\n",
       "      <td>0</td>\n",
       "      <td>1</td>\n",
       "      <td>1</td>\n",
       "    </tr>\n",
       "    <tr>\n",
       "      <th>46</th>\n",
       "      <td>No Urgent Place</td>\n",
       "      <td>Friend(s)</td>\n",
       "      <td>Sunny</td>\n",
       "      <td>80</td>\n",
       "      <td>10AM</td>\n",
       "      <td>Bar</td>\n",
       "      <td>1d</td>\n",
       "      <td>Male</td>\n",
       "      <td>46</td>\n",
       "      <td>Single</td>\n",
       "      <td>...</td>\n",
       "      <td>4~8</td>\n",
       "      <td>1~3</td>\n",
       "      <td>1~3</td>\n",
       "      <td>never</td>\n",
       "      <td>1</td>\n",
       "      <td>0</td>\n",
       "      <td>0</td>\n",
       "      <td>0</td>\n",
       "      <td>1</td>\n",
       "      <td>0</td>\n",
       "    </tr>\n",
       "    <tr>\n",
       "      <th>57</th>\n",
       "      <td>Home</td>\n",
       "      <td>Alone</td>\n",
       "      <td>Sunny</td>\n",
       "      <td>55</td>\n",
       "      <td>6PM</td>\n",
       "      <td>Bar</td>\n",
       "      <td>1d</td>\n",
       "      <td>Male</td>\n",
       "      <td>46</td>\n",
       "      <td>Single</td>\n",
       "      <td>...</td>\n",
       "      <td>4~8</td>\n",
       "      <td>1~3</td>\n",
       "      <td>1~3</td>\n",
       "      <td>never</td>\n",
       "      <td>1</td>\n",
       "      <td>0</td>\n",
       "      <td>0</td>\n",
       "      <td>1</td>\n",
       "      <td>0</td>\n",
       "      <td>0</td>\n",
       "    </tr>\n",
       "  </tbody>\n",
       "</table>\n",
       "<p>5 rows × 26 columns</p>\n",
       "</div>"
      ]
     },
     "execution_count": 159,
     "metadata": {},
     "output_type": "execute_result"
    }
   ],
   "execution_count": 159
  },
  {
   "cell_type": "markdown",
   "metadata": {
    "id": "8ue6uCqf_qRJ"
   },
   "source": [
    "2. What proportion of bar coupons were accepted?\n"
   ]
  },
  {
   "cell_type": "code",
   "metadata": {
    "id": "hSdte8Mi_qRK",
    "ExecuteTime": {
     "end_time": "2025-07-31T05:47:21.554011Z",
     "start_time": "2025-07-31T05:47:21.484649Z"
    }
   },
   "source": [
    "print(\"Proportion of bar coupons accepted: \", len(bar_coupons_data[bar_coupons_data['Y'] == 1]) / len(bar_coupons_data))\n",
    "#Visualizing data\n",
    "sns.barplot(bar_coupons_data['Y'].value_counts())\n",
    "plt.title('Acceptance of bar coupons')\n",
    "plt.ylabel('Count')\n",
    "plt.xlabel('Accepted')\n",
    "plt.tight_layout()\n",
    "plt.show()\n"
   ],
   "outputs": [
    {
     "name": "stdout",
     "output_type": "stream",
     "text": [
      "Proportion of bar coupons accepted:  0.41191845269210664\n"
     ]
    },
    {
     "data": {
      "text/plain": [
       "<Figure size 640x480 with 1 Axes>"
      ],
      "image/png": "[encoded data removed]"
     },
     "metadata": {},
     "output_type": "display_data"
    }
   ],
   "execution_count": 177
  },
  {
   "cell_type": "markdown",
   "metadata": {
    "id": "85nA_iEi_qRK"
   },
   "source": [
    "3. Compare the acceptance rate between those who went to a bar 3 or fewer times a month to those who went more.\n"
   ]
  },
  {
   "cell_type": "code",
   "metadata": {
    "id": "LBOrN-XM_qRK",
    "ExecuteTime": {
     "end_time": "2025-07-31T05:28:31.775546Z",
     "start_time": "2025-07-31T05:28:31.768455Z"
    }
   },
   "source": [
    "print(\"Unique values in bar column\", data['Bar'].unique())\n",
    "total_accepted_lessthan3 = data[data['Bar'].isin(['never', 'less1', '1~3']) & data['Y'] == 1]\n",
    "total_accepted_morethan3 = data[data['Bar'].isin(['gt8', '4~8']) & data['Y'] == 1]\n",
    "print('Total drivers going to bar less than 3 times: ', len(total_accepted_lessthan3))\n",
    "print('Total drivers going to bar more than 3 times: ', len(total_accepted_morethan3))\n",
    "\n",
    "\n",
    "print(\"Ratio: \", len(total_accepted_lessthan3) / len(total_accepted_morethan3))"
   ],
   "outputs": [
    {
     "name": "stdout",
     "output_type": "stream",
     "text": [
      "Unique values in bar column ['never' 'less1' '1~3' 'gt8' '4~8']\n",
      "Total drivers going to bar less than 3 times:  6019\n",
      "Total drivers going to bar more than 3 times:  858\n",
      "Ratio:  7.015151515151516\n"
     ]
    }
   ],
   "execution_count": 161
  },
  {
   "cell_type": "markdown",
   "metadata": {
    "id": "RBgcQwH4_qRK"
   },
   "source": [
    "4. Compare the acceptance rate between drivers who go to a bar more than once a month and are over the age of 25 to the all others.  Is there a difference?\n"
   ]
  },
  {
   "cell_type": "code",
   "metadata": {
    "id": "bf28bbeX_qRK",
    "ExecuteTime": {
     "end_time": "2025-07-31T05:56:35.261533Z",
     "start_time": "2025-07-31T05:56:35.256445Z"
    }
   },
   "source": [
    "print('unique value in age column', total_accepted_morethan3['age'].unique())\n",
    "\n",
    "print(\"Users who accepted, are going to bar more than once and are less than 25: \", len(total_accepted_morethan3[~total_accepted_morethan3['age'].isin(['46', '26', '31', '41', '50plus', '36'])]))\n",
    "\n",
    "print(\"Users who accepted, are going to bar more than once and are more than 25: \", len(total_accepted_morethan3[total_accepted_morethan3['age'].isin(['46', '26', '31', '41', '50plus', '36'])]))\n",
    "\n"
   ],
   "outputs": [
    {
     "name": "stdout",
     "output_type": "stream",
     "text": [
      "unique value in age column ['26' '31' '50plus' '21' '36' '46' '41' 'below21']\n",
      "Users who accepted, are going to bar more than once and are less than 25:  251\n",
      "Users who accepted, are going to bar more than once and are more than 25:  607\n"
     ]
    }
   ],
   "execution_count": 187
  },
  {
   "cell_type": "markdown",
   "metadata": {
    "id": "S4RKT4PJ_qRK"
   },
   "source": [
    "5. Use the same process to compare the acceptance rate between drivers who go to bars more than once a month and had passengers that were not a kid and had occupations other than farming, fishing, or forestry.\n"
   ]
  },
  {
   "metadata": {},
   "cell_type": "code",
   "outputs": [],
   "execution_count": null,
   "source": ""
  },
  {
   "cell_type": "code",
   "metadata": {
    "id": "sENaI2Tg_qRK",
    "ExecuteTime": {
     "end_time": "2025-07-31T06:12:03.800389Z",
     "start_time": "2025-07-31T06:12:03.795176Z"
    }
   },
   "source": [
    "#Farming Fishing & Forestry\n",
    "\n",
    "total_accepted_morethan3_with_nokids = len(total_accepted_morethan3[~total_accepted_morethan3['passanger'].isin(['Kid(s)'])])\n",
    "print(\"More than 3 times visitor to bar accepted coupon and with no kids count: \",total_accepted_morethan3_with_nokids )\n",
    "\n",
    "total_accepted_morethan3_with_occupation_other_than_farming_fishing_forestry = len(total_accepted_morethan3[~total_accepted_morethan3['occupation'].isin(['Farming Fishing & Forestry'])])\n",
    "\n",
    "print(\"More than 3 times visitor to bar accepted coupon and with not having occupation Farming et al: \",total_accepted_morethan3_with_occupation_other_than_farming_fishing_forestry )\n"
   ],
   "outputs": [
    {
     "name": "stdout",
     "output_type": "stream",
     "text": [
      "More than 3 times visitor to bar accepted coupon and with no kids count:  833\n",
      "More than 3 times visitor to bar accepted coupon and with not having occupation Farming et al:  858\n"
     ]
    }
   ],
   "execution_count": 200
  },
  {
   "cell_type": "markdown",
   "metadata": {
    "id": "n2LIUTil_qRK"
   },
   "source": [
    "d6. Compare the acceptance rates between those drivers who:\n",
    "\n",
    "- go to bars more than once a month, had passengers that were not a kid, and were not widowed *OR*\n",
    "- go to bars more than once a month and are under the age of 30 *OR*\n",
    "- go to cheap restaurants more than 4 times a month and income is less than 50K.\n",
    "\n"
   ]
  },
  {
   "cell_type": "code",
   "metadata": {
    "id": "aK_wEzx7_qRK",
    "ExecuteTime": {
     "end_time": "2025-07-31T06:03:59.061138Z",
     "start_time": "2025-07-31T06:03:59.058730Z"
    }
   },
   "source": "",
   "outputs": [],
   "execution_count": null
  },
  {
   "cell_type": "markdown",
   "metadata": {
    "id": "v3fL3QkO_qRK"
   },
   "source": [
    "7.  Based on these observations, what do you hypothesize about drivers who accepted the bar coupons?"
   ]
  },
  {
   "cell_type": "code",
   "metadata": {
    "id": "Y48naDFh_qRL",
    "ExecuteTime": {
     "end_time": "2025-07-31T05:28:31.811911Z",
     "start_time": "2025-07-31T05:28:31.810595Z"
    }
   },
   "source": [],
   "outputs": [],
   "execution_count": null
  },
  {
   "cell_type": "markdown",
   "metadata": {
    "id": "r4Hu1zOb_qRL"
   },
   "source": [
    "### Independent Investigation\n",
    "\n",
    "Using the bar coupon example as motivation, you are to explore one of the other coupon groups and try to determine the characteristics of passengers who accept the coupons.  "
   ]
  },
  {
   "cell_type": "code",
   "metadata": {
    "id": "0c71cQhu_qRL",
    "ExecuteTime": {
     "end_time": "2025-07-31T05:28:31.816384Z",
     "start_time": "2025-07-31T05:28:31.815192Z"
    }
   },
   "source": [],
   "outputs": [],
   "execution_count": null
  },
  {
   "cell_type": "code",
   "metadata": {
    "id": "QEsBkvIN_qRL",
    "ExecuteTime": {
     "end_time": "2025-07-31T05:28:31.820117Z",
     "start_time": "2025-07-31T05:28:31.818976Z"
    }
   },
   "source": [],
   "outputs": [],
   "execution_count": null
  },
  {
   "cell_type": "code",
   "metadata": {
    "id": "fTC2WGE3_qRL",
    "ExecuteTime": {
     "end_time": "2025-07-31T05:28:31.824146Z",
     "start_time": "2025-07-31T05:28:31.822713Z"
    }
   },
   "source": [],
   "outputs": [],
   "execution_count": null
  },
  {
   "cell_type": "code",
   "metadata": {
    "id": "RrqUWn7d_qRL",
    "ExecuteTime": {
     "end_time": "2025-07-31T05:28:31.828693Z",
     "start_time": "2025-07-31T05:28:31.827310Z"
    }
   },
   "source": [],
   "outputs": [],
   "execution_count": null
  },
  {
   "cell_type": "code",
   "metadata": {
    "id": "_oykf8YP_qRL",
    "ExecuteTime": {
     "end_time": "2025-07-31T05:28:31.833016Z",
     "start_time": "2025-07-31T05:28:31.831785Z"
    }
   },
   "source": [],
   "outputs": [],
   "execution_count": null
  }
 ],
 "metadata": {
  "kernelspec": {
   "display_name": "Python 3 (ipykernel)",
   "language": "python",
   "name": "python3"
  },
  "language_info": {
   "codemirror_mode": {
    "name": "ipython",
    "version": 3
   },
   "file_extension": ".py",
   "mimetype": "text/x-python",
   "name": "python",
   "nbconvert_exporter": "python",
   "pygments_lexer": "ipython3",
   "version": "3.12.1"
  },
  "colab": {
   "provenance": []
  }
 },
 "nbformat": 4,
 "nbformat_minor": 0
}
